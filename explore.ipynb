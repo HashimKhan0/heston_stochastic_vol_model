{
 "cells": [
  {
   "cell_type": "code",
   "execution_count": null,
   "metadata": {},
   "outputs": [
    {
     "ename": "",
     "evalue": "",
     "output_type": "error",
     "traceback": [
      "\u001b[1;31mRunning cells with 'venv (Python 3.11.5)' requires the ipykernel package.\n",
      "\u001b[1;31mRun the following command to install 'ipykernel' into the Python environment. \n",
      "\u001b[1;31mCommand: 'c:/Users/hashi/Documents/GitHub/heston_stochastic_vol_model/venv/Scripts/python.exe -m pip install ipykernel -U --force-reinstall'"
     ]
    }
   ],
   "source": [
    "# relevant libraries\n",
    "import numpy as np \n",
    "import matplotlib.pyplot as plt\n",
    "import yfinance as yf"
   ]
  },
  {
   "cell_type": "code",
   "execution_count": null,
   "metadata": {},
   "outputs": [
    {
     "ename": "",
     "evalue": "",
     "output_type": "error",
     "traceback": [
      "\u001b[1;31mRunning cells with 'venv (Python 3.11.5)' requires the ipykernel package.\n",
      "\u001b[1;31mRun the following command to install 'ipykernel' into the Python environment. \n",
      "\u001b[1;31mCommand: 'c:/Users/hashi/Documents/GitHub/heston_stochastic_vol_model/venv/Scripts/python.exe -m pip install ipykernel -U --force-reinstall'"
     ]
    }
   ],
   "source": [
    "# plot stock price and volatility and compare\n",
    "start = \"2022-01-01\"\n",
    "end = \"2024-01-01\"\n",
    "\n",
    "stock = \"AAPL\"\n",
    "data = yf.download(stock, start=start, end=end)['Adj Close']\n",
    "\n",
    "daily_ret = data.pct_change()\n",
    "\n",
    "rolling_vol = daily_ret.rolling(window=30).std()*np.sqrt(252)\n",
    "\n",
    "plt.figure(figsize=(14,7))\n",
    "\n",
    "plt.subplot(2,1,1)\n",
    "plt.plot(data['2022-04-1':], label = f\"{stock} adj close price\", color=\"red\")\n",
    "plt.legend(loc=\"upper left\")\n",
    "plt.subplot(2,1,2)\n",
    "plt.plot(rolling_vol['2022-04-01':], label = \"30 day annualized vol\", color=\"blue\")\n",
    "plt.legend(loc=\"upper right\")\n",
    "plt.xlabel(\"date\")\n",
    "plt.ylabel(\"$\")\n",
    "plt.show()\n",
    "\n"
   ]
  },
  {
   "cell_type": "code",
   "execution_count": 18,
   "metadata": {},
   "outputs": [
    {
     "data": {
      "text/html": [
       "<div>\n",
       "<style scoped>\n",
       "    .dataframe tbody tr th:only-of-type {\n",
       "        vertical-align: middle;\n",
       "    }\n",
       "\n",
       "    .dataframe tbody tr th {\n",
       "        vertical-align: top;\n",
       "    }\n",
       "\n",
       "    .dataframe thead th {\n",
       "        text-align: right;\n",
       "    }\n",
       "</style>\n",
       "<table border=\"1\" class=\"dataframe\">\n",
       "  <thead>\n",
       "    <tr style=\"text-align: right;\">\n",
       "      <th>Ticker</th>\n",
       "      <th>AAPL</th>\n",
       "    </tr>\n",
       "    <tr>\n",
       "      <th>Date</th>\n",
       "      <th></th>\n",
       "    </tr>\n",
       "  </thead>\n",
       "  <tbody>\n",
       "    <tr>\n",
       "      <th>2022-03-01 00:00:00+00:00</th>\n",
       "      <td>0.310145</td>\n",
       "    </tr>\n",
       "    <tr>\n",
       "      <th>2022-03-02 00:00:00+00:00</th>\n",
       "      <td>0.312263</td>\n",
       "    </tr>\n",
       "    <tr>\n",
       "      <th>2022-03-03 00:00:00+00:00</th>\n",
       "      <td>0.306160</td>\n",
       "    </tr>\n",
       "    <tr>\n",
       "      <th>2022-03-04 00:00:00+00:00</th>\n",
       "      <td>0.309451</td>\n",
       "    </tr>\n",
       "    <tr>\n",
       "      <th>2022-03-07 00:00:00+00:00</th>\n",
       "      <td>0.314941</td>\n",
       "    </tr>\n",
       "    <tr>\n",
       "      <th>...</th>\n",
       "      <td>...</td>\n",
       "    </tr>\n",
       "    <tr>\n",
       "      <th>2023-12-22 00:00:00+00:00</th>\n",
       "      <td>0.148199</td>\n",
       "    </tr>\n",
       "    <tr>\n",
       "      <th>2023-12-26 00:00:00+00:00</th>\n",
       "      <td>0.134498</td>\n",
       "    </tr>\n",
       "    <tr>\n",
       "      <th>2023-12-27 00:00:00+00:00</th>\n",
       "      <td>0.131291</td>\n",
       "    </tr>\n",
       "    <tr>\n",
       "      <th>2023-12-28 00:00:00+00:00</th>\n",
       "      <td>0.125622</td>\n",
       "    </tr>\n",
       "    <tr>\n",
       "      <th>2023-12-29 00:00:00+00:00</th>\n",
       "      <td>0.126878</td>\n",
       "    </tr>\n",
       "  </tbody>\n",
       "</table>\n",
       "<p>462 rows × 1 columns</p>\n",
       "</div>"
      ],
      "text/plain": [
       "Ticker                         AAPL\n",
       "Date                               \n",
       "2022-03-01 00:00:00+00:00  0.310145\n",
       "2022-03-02 00:00:00+00:00  0.312263\n",
       "2022-03-03 00:00:00+00:00  0.306160\n",
       "2022-03-04 00:00:00+00:00  0.309451\n",
       "2022-03-07 00:00:00+00:00  0.314941\n",
       "...                             ...\n",
       "2023-12-22 00:00:00+00:00  0.148199\n",
       "2023-12-26 00:00:00+00:00  0.134498\n",
       "2023-12-27 00:00:00+00:00  0.131291\n",
       "2023-12-28 00:00:00+00:00  0.125622\n",
       "2023-12-29 00:00:00+00:00  0.126878\n",
       "\n",
       "[462 rows x 1 columns]"
      ]
     },
     "execution_count": 18,
     "metadata": {},
     "output_type": "execute_result"
    }
   ],
   "source": [
    "rolling_vol['2022-03-01':]"
   ]
  },
  {
   "cell_type": "code",
   "execution_count": null,
   "metadata": {},
   "outputs": [
    {
     "ename": "",
     "evalue": "",
     "output_type": "error",
     "traceback": [
      "\u001b[1;31mRunning cells with 'venv (Python 3.11.5)' requires the ipykernel package.\n",
      "\u001b[1;31mRun the following command to install 'ipykernel' into the Python environment. \n",
      "\u001b[1;31mCommand: 'c:/Users/hashi/Documents/GitHub/heston_stochastic_vol_model/venv/Scripts/python.exe -m pip install ipykernel -U --force-reinstall'"
     ]
    }
   ],
   "source": [
    "\"abc\""
   ]
  }
 ],
 "metadata": {
  "kernelspec": {
   "display_name": "venv",
   "language": "python",
   "name": "python3"
  },
  "language_info": {
   "codemirror_mode": {
    "name": "ipython",
    "version": 3
   },
   "file_extension": ".py",
   "mimetype": "text/x-python",
   "name": "python",
   "nbconvert_exporter": "python",
   "pygments_lexer": "ipython3",
   "version": "3.11.5"
  }
 },
 "nbformat": 4,
 "nbformat_minor": 2
}
